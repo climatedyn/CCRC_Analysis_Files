{
 "cells": [
  {
   "cell_type": "code",
   "execution_count": 5,
   "metadata": {},
   "outputs": [],
   "source": [
    "%matplotlib inline\n",
    "import os\n",
    "#os.getcwd()\n",
    "os.chdir(\"/scratch/w40/gp8431/run\")\n",
    "os.listdir()\n",
    "import xarray as xr"
   ]
  },
  {
   "cell_type": "code",
   "execution_count": 6,
   "metadata": {},
   "outputs": [
    {
     "data": {
      "text/plain": [
       "<xarray.DataArray 'time' (time: 500)>\n",
       "array([ 501.,  502.,  503., ...,  998.,  999., 1000.])\n",
       "Coordinates:\n",
       "  * time     (time) float64 501.0 502.0 503.0 504.0 ... 997.0 998.0 999.0 1e+03\n",
       "Attributes:\n",
       "    long_name:       time\n",
       "    units:           days since 0000-00-00 00:00:00\n",
       "    cartesian_axis:  T\n",
       "    calendar_type:   NO_CALENDAR\n",
       "    calendar:        NO_CALENDAR"
      ]
     },
     "execution_count": 6,
     "metadata": {},
     "output_type": "execute_result"
    }
   ],
   "source": [
    "xr.open_dataset(\"atmos_daily_nh.nc\", decode_times = False).time"
   ]
  },
  {
   "cell_type": "code",
   "execution_count": 2,
   "metadata": {},
   "outputs": [],
   "source": []
  },
  {
   "cell_type": "code",
   "execution_count": 7,
   "metadata": {},
   "outputs": [
    {
     "name": "stdout",
     "output_type": "stream",
     "text": [
      "<xarray.Dataset>\n",
      "Dimensions:  (lat: 64, latb: 65, lon: 128, lonb: 129, pfull: 17, time: 500)\n",
      "Coordinates:\n",
      "  * lon      (lon) float64 0.0 2.812 5.625 8.438 ... 348.8 351.6 354.4 357.2\n",
      "  * lonb     (lonb) float64 -1.406 1.406 4.219 7.031 ... 350.2 353.0 355.8 358.6\n",
      "  * lat      (lat) float64 -87.86 -85.1 -82.31 -79.53 ... 79.53 82.31 85.1 87.86\n",
      "  * latb     (latb) float64 -90.0 -86.58 -83.76 -80.96 ... 83.76 86.58 90.0\n",
      "  * pfull    (pfull) float32 1000.0 925.0 850.0 700.0 ... 50.0 30.0 20.0 10.0\n",
      "  * time     (time) float64 501.0 502.0 503.0 504.0 ... 997.0 998.0 999.0 1e+03\n",
      "Data variables:\n",
      "    hght     (time, pfull, lat, lon) float32 ...\n",
      "    ps       (time, lat, lon) float32 ...\n",
      "    ucomp    (time, pfull, lat, lon) float32 ...\n",
      "    vcomp    (time, pfull, lat, lon) float32 ...\n",
      "    temp     (time, pfull, lat, lon) float32 ...\n",
      "Attributes:\n",
      "    filename:   plevel_daily_ih.nc\n",
      "    title:      HSt42\n",
      "    grid_type:  regular\n",
      "    grid_tile:  N/A\n",
      "    comment:    pressure level interpolator, version 3.0, precision=double\n"
     ]
    }
   ],
   "source": [
    "# Can rerun with atmos\n",
    "ih = xr.open_dataset(\"plevel_daily_ih.nc\", decode_times = False)\n",
    "nh = xr.open_dataset(\"plevel_daily_nh.nc\", decode_times = False)\n",
    "print(ih)"
   ]
  },
  {
   "cell_type": "code",
   "execution_count": 4,
   "metadata": {},
   "outputs": [],
   "source": [
    "#print(ih.time)"
   ]
  },
  {
   "cell_type": "code",
   "execution_count": 5,
   "metadata": {},
   "outputs": [],
   "source": [
    "#ih.time.attrs[\"units\"] = \"days since 2020-12-20 00:00:00\"\n",
    "#ih.time.attrs[\"calendar\"] = \"noleap\"\n",
    "#xr.decode_cf(ih)"
   ]
  },
  {
   "cell_type": "code",
   "execution_count": 9,
   "metadata": {},
   "outputs": [
    {
     "data": {
      "text/plain": [
       "<matplotlib.collections.QuadMesh at 0x14569900bcf8>"
      ]
     },
     "execution_count": 9,
     "metadata": {},
     "output_type": "execute_result"
    },
    {
     "data": {
      "image/png": "[encoded data removed]",
      "text/plain": [
       "<Figure size 432x288 with 2 Axes>"
      ]
     },
     "metadata": {
      "needs_background": "light"
     },
     "output_type": "display_data"
    }
   ],
   "source": [
    "nh.mean(\"time\").sel(pfull=850, method = \"nearest\").temp.plot()"
   ]
  },
  {
   "cell_type": "code",
   "execution_count": 10,
   "metadata": {},
   "outputs": [
    {
     "name": "stdout",
     "output_type": "stream",
     "text": [
      "<xarray.Dataset>\n",
      "Dimensions:  (lat: 64, latb: 65, lon: 128, lonb: 129, pfull: 17, time: 500)\n",
      "Coordinates:\n",
      "  * lon      (lon) float64 0.0 2.812 5.625 8.438 ... 348.8 351.6 354.4 357.2\n",
      "  * lonb     (lonb) float64 -1.406 1.406 4.219 7.031 ... 350.2 353.0 355.8 358.6\n",
      "  * lat      (lat) float64 -87.86 -85.1 -82.31 -79.53 ... 79.53 82.31 85.1 87.86\n",
      "  * latb     (latb) float64 -90.0 -86.58 -83.76 -80.96 ... 83.76 86.58 90.0\n",
      "  * pfull    (pfull) float32 1000.0 925.0 850.0 700.0 ... 50.0 30.0 20.0 10.0\n",
      "  * time     (time) float64 501.0 502.0 503.0 504.0 ... 997.0 998.0 999.0 1e+03\n",
      "Data variables:\n",
      "    ps       (time, lat, lon) float32 96908.29 96925.92 ... 101033.69 101033.86\n",
      "    ucomp    (time, pfull, lat, lon) float32 4.441665 4.9248953 ... 1.1415972\n",
      "    vcomp    (time, pfull, lat, lon) float32 -8.378128 -8.148476 ... -1.7189431\n",
      "    temp     (time, pfull, lat, lon) float32 264.60223 264.59537 ... 248.179\n",
      "Attributes:\n",
      "    filename:   plevel_daily_ih.nc\n",
      "    title:      HSt42\n",
      "    grid_type:  regular\n",
      "    grid_tile:  N/A\n",
      "    comment:    pressure level interpolator, version 3.0, precision=double\n",
      "<xarray.Dataset>\n",
      "Dimensions:  (lat: 64, latb: 65, lon: 128, lonb: 129, pfull: 17, time: 500)\n",
      "Coordinates:\n",
      "  * lon      (lon) float64 0.0 2.812 5.625 8.438 ... 348.8 351.6 354.4 357.2\n",
      "  * lonb     (lonb) float64 -1.406 1.406 4.219 7.031 ... 350.2 353.0 355.8 358.6\n",
      "  * lat      (lat) float64 -87.86 -85.1 -82.31 -79.53 ... 79.53 82.31 85.1 87.86\n",
      "  * latb     (latb) float64 -90.0 -86.58 -83.76 -80.96 ... 83.76 86.58 90.0\n",
      "  * pfull    (pfull) float32 1000.0 925.0 850.0 700.0 ... 50.0 30.0 20.0 10.0\n",
      "  * time     (time) float64 1.0 2.0 3.0 4.0 5.0 ... 497.0 498.0 499.0 500.0\n",
      "Data variables:\n",
      "    ps       (time, lat, lon) float32 ...\n",
      "    ucomp    (time, pfull, lat, lon) float32 ...\n",
      "    vcomp    (time, pfull, lat, lon) float32 ...\n",
      "    temp     (time, pfull, lat, lon) float32 ...\n",
      "Attributes:\n",
      "    filename:   plevel_daily_nh.nc\n",
      "    title:      HSt42\n",
      "    grid_type:  regular\n",
      "    grid_tile:  N/A\n",
      "    comment:    pressure level interpolator, version 3.0, precision=double\n"
     ]
    }
   ],
   "source": [
    "#(ih-nh)#.mean(\"time\").sel(pfull=850, method = \"nearest\").temp.plot()\n",
    "print(ih)\n",
    "print(nh)"
   ]
  },
  {
   "cell_type": "code",
   "execution_count": null,
   "metadata": {},
   "outputs": [],
   "source": []
  },
  {
   "cell_type": "code",
   "execution_count": null,
   "metadata": {},
   "outputs": [],
   "source": []
  }
 ],
 "metadata": {
  "kernelspec": {
   "display_name": "Python [conda env:analysis3-19.07]",
   "language": "python",
   "name": "conda-env-analysis3-19.07-py"
  },
  "language_info": {
   "codemirror_mode": {
    "name": "ipython",
    "version": 3
   },
   "file_extension": ".py",
   "mimetype": "text/x-python",
   "name": "python",
   "nbconvert_exporter": "python",
   "pygments_lexer": "ipython3",
   "version": "3.6.7"
  }
 },
 "nbformat": 4,
 "nbformat_minor": 4
}
